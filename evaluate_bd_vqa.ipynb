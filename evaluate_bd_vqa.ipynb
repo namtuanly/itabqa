{
 "cells": [
  {
   "cell_type": "code",
   "execution_count": 1,
   "id": "192ba96b",
   "metadata": {},
   "outputs": [],
   "source": [
    "import sys, os\n",
    "from strsimpy.normalized_levenshtein import NormalizedLevenshtein\n",
    "import math"
   ]
  },
  {
   "cell_type": "code",
   "execution_count": 2,
   "id": "123992f9",
   "metadata": {},
   "outputs": [],
   "source": [
    "normalized_levenshtein = NormalizedLevenshtein()"
   ]
  },
  {
   "cell_type": "code",
   "execution_count": 3,
   "id": "4790cce4",
   "metadata": {},
   "outputs": [
    {
     "name": "stdout",
     "output_type": "stream",
     "text": [
      "1.0\n"
     ]
    }
   ],
   "source": [
    "print(normalized_levenshtein.distance('132', '211'))"
   ]
  },
  {
   "cell_type": "code",
   "execution_count": 4,
   "id": "9ced815c",
   "metadata": {},
   "outputs": [],
   "source": [
    "def calculate_score(data_type, pred_val, gt_val):\n",
    "    pred_type_numeric = True\n",
    "    if data_type == 'numeric':\n",
    "        gt_val = round(float(gt_val), 2)\n",
    "        try:\n",
    "            pred_val = round(float(pred_val), 2)\n",
    "        except:\n",
    "            pred_type_numeric = False\n",
    "    else:\n",
    "        pred_type_numeric = False   \n",
    "    anld = normalized_levenshtein.distance(str(gt_val), str(pred_val))\n",
    "    anls = 1.0 - anld\n",
    "    print(\"ANLS : \", round(anls, 2))\n",
    "    pct_closeness = None\n",
    "    if data_type == 'numeric' and pred_type_numeric:\n",
    "        if abs(gt_val) != 0:\n",
    "            pct_deviation = float(abs(abs(pred_val) - abs(gt_val))) / abs(gt_val)\n",
    "        elif abs(pred_val) != 0:\n",
    "            pct_deviation = 1.0\n",
    "        else:\n",
    "            pct_deviation = 0.0\n",
    "        pct_deviation = min(pct_deviation, 1.0)\n",
    "        pct_closeness = 1.0 - pct_deviation\n",
    "        print(\"Percentage absolute closeness score : \", round(pct_closeness, 2))\n",
    "    score = 0.0\n",
    "    if data_type == 'numeric' and pred_type_numeric:\n",
    "        score = math.sqrt((anls * anls) + (pct_closeness * pct_closeness)) / math.sqrt(2)\n",
    "    elif data_type == 'numeric' and not pred_type_numeric:\n",
    "        score = anls / math.sqrt(2)\n",
    "    else:\n",
    "        score = anls\n",
    "    print(\"Final aggregated score : \", round(score, 2)) \n",
    "    return score\n",
    "    \n",
    "        \n",
    "        "
   ]
  },
  {
   "cell_type": "code",
   "execution_count": 5,
   "id": "9e51d995",
   "metadata": {},
   "outputs": [
    {
     "name": "stdout",
     "output_type": "stream",
     "text": [
      "ANLS :  0.71\n",
      "Percentage absolute closeness score :  1.0\n",
      "Final aggregated score :  0.87\n"
     ]
    },
    {
     "data": {
      "text/plain": [
       "0.868880453436866"
      ]
     },
     "execution_count": 5,
     "metadata": {},
     "output_type": "execute_result"
    }
   ],
   "source": [
    "calculate_score('numeric', 1680.25, 1680.0)"
   ]
  },
  {
   "cell_type": "code",
   "execution_count": 8,
   "id": "2aee21ba",
   "metadata": {},
   "outputs": [
    {
     "name": "stdout",
     "output_type": "stream",
     "text": [
      "ANLS :  0.67\n",
      "Percentage absolute closeness score :  0.0\n",
      "Final aggregated score :  0.47\n"
     ]
    },
    {
     "data": {
      "text/plain": [
       "0.4714045207910317"
      ]
     },
     "execution_count": 8,
     "metadata": {},
     "output_type": "execute_result"
    }
   ],
   "source": [
    "calculate_score('numeric', 1680000, 1680.0)"
   ]
  },
  {
   "cell_type": "code",
   "execution_count": 9,
   "id": "4adf9615",
   "metadata": {},
   "outputs": [
    {
     "name": "stdout",
     "output_type": "stream",
     "text": [
      "ANLS :  0.07\n",
      "Final aggregated score :  0.07\n"
     ]
    },
    {
     "data": {
      "text/plain": [
       "0.0714285714285714"
      ]
     },
     "execution_count": 9,
     "metadata": {},
     "output_type": "execute_result"
    }
   ],
   "source": [
    "calculate_score('text', \"2013 income\", \"income of 2013\")"
   ]
  }
 ],
 "metadata": {
  "kernelspec": {
   "display_name": "itabqa-Veh5qwTs-py3.8",
   "language": "python",
   "name": "python3"
  },
  "language_info": {
   "codemirror_mode": {
    "name": "ipython",
    "version": 3
   },
   "file_extension": ".py",
   "mimetype": "text/x-python",
   "name": "python",
   "nbconvert_exporter": "python",
   "pygments_lexer": "ipython3",
   "version": "3.8.13"
  },
  "vscode": {
   "interpreter": {
    "hash": "c6b000344260ebfc027ce997b990346e95ee0067fc2b7665f9824474697da834"
   }
  }
 },
 "nbformat": 4,
 "nbformat_minor": 5
}
